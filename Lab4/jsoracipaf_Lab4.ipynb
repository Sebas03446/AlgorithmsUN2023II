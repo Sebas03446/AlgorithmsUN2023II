{
  "cells": [
    {
      "cell_type": "code",
      "execution_count": 1,
      "metadata": {
        "colab": {
          "base_uri": "https://localhost:8080/"
        },
        "id": "im-VVd1__7VU",
        "outputId": "852efe10-7df4-4397-cf84-d811dbb6a6b1"
      },
      "outputs": [
        {
          "output_type": "stream",
          "name": "stdout",
          "text": [
            "processor\t: 0\n",
            "vendor_id\t: GenuineIntel\n",
            "cpu family\t: 6\n",
            "model\t\t: 79\n",
            "model name\t: Intel(R) Xeon(R) CPU @ 2.20GHz\n",
            "stepping\t: 0\n",
            "microcode\t: 0xffffffff\n",
            "cpu MHz\t\t: 2199.998\n",
            "cache size\t: 56320 KB\n",
            "physical id\t: 0\n",
            "siblings\t: 2\n",
            "core id\t\t: 0\n",
            "cpu cores\t: 1\n",
            "apicid\t\t: 0\n",
            "initial apicid\t: 0\n",
            "fpu\t\t: yes\n",
            "fpu_exception\t: yes\n",
            "cpuid level\t: 13\n",
            "wp\t\t: yes\n",
            "flags\t\t: fpu vme de pse tsc msr pae mce cx8 apic sep mtrr pge mca cmov pat pse36 clflush mmx fxsr sse sse2 ss ht syscall nx pdpe1gb rdtscp lm constant_tsc rep_good nopl xtopology nonstop_tsc cpuid tsc_known_freq pni pclmulqdq ssse3 fma cx16 pcid sse4_1 sse4_2 x2apic movbe popcnt aes xsave avx f16c rdrand hypervisor lahf_lm abm 3dnowprefetch invpcid_single ssbd ibrs ibpb stibp fsgsbase tsc_adjust bmi1 hle avx2 smep bmi2 erms invpcid rtm rdseed adx smap xsaveopt arat md_clear arch_capabilities\n",
            "bugs\t\t: cpu_meltdown spectre_v1 spectre_v2 spec_store_bypass l1tf mds swapgs taa mmio_stale_data retbleed\n",
            "bogomips\t: 4399.99\n",
            "clflush size\t: 64\n",
            "cache_alignment\t: 64\n",
            "address sizes\t: 46 bits physical, 48 bits virtual\n",
            "power management:\n",
            "\n",
            "processor\t: 1\n",
            "vendor_id\t: GenuineIntel\n",
            "cpu family\t: 6\n",
            "model\t\t: 79\n",
            "model name\t: Intel(R) Xeon(R) CPU @ 2.20GHz\n",
            "stepping\t: 0\n",
            "microcode\t: 0xffffffff\n",
            "cpu MHz\t\t: 2199.998\n",
            "cache size\t: 56320 KB\n",
            "physical id\t: 0\n",
            "siblings\t: 2\n",
            "core id\t\t: 0\n",
            "cpu cores\t: 1\n",
            "apicid\t\t: 1\n",
            "initial apicid\t: 1\n",
            "fpu\t\t: yes\n",
            "fpu_exception\t: yes\n",
            "cpuid level\t: 13\n",
            "wp\t\t: yes\n",
            "flags\t\t: fpu vme de pse tsc msr pae mce cx8 apic sep mtrr pge mca cmov pat pse36 clflush mmx fxsr sse sse2 ss ht syscall nx pdpe1gb rdtscp lm constant_tsc rep_good nopl xtopology nonstop_tsc cpuid tsc_known_freq pni pclmulqdq ssse3 fma cx16 pcid sse4_1 sse4_2 x2apic movbe popcnt aes xsave avx f16c rdrand hypervisor lahf_lm abm 3dnowprefetch invpcid_single ssbd ibrs ibpb stibp fsgsbase tsc_adjust bmi1 hle avx2 smep bmi2 erms invpcid rtm rdseed adx smap xsaveopt arat md_clear arch_capabilities\n",
            "bugs\t\t: cpu_meltdown spectre_v1 spectre_v2 spec_store_bypass l1tf mds swapgs taa mmio_stale_data retbleed\n",
            "bogomips\t: 4399.99\n",
            "clflush size\t: 64\n",
            "cache_alignment\t: 64\n",
            "address sizes\t: 46 bits physical, 48 bits virtual\n",
            "power management:\n",
            "\n"
          ]
        }
      ],
      "source": [
        "!cat /proc/cpuinfo"
      ]
    },
    {
      "cell_type": "markdown",
      "metadata": {
        "id": "N1ok_-56OjB1"
      },
      "source": [
        "# I Solving the Sum of Two Digits Programming Challenge"
      ]
    },
    {
      "cell_type": "markdown",
      "metadata": {
        "id": "MMY7kmDSO0KM"
      },
      "source": [
        "## C++"
      ]
    },
    {
      "cell_type": "code",
      "execution_count": 2,
      "metadata": {
        "colab": {
          "base_uri": "https://localhost:8080/"
        },
        "id": "2pGGf9BkPNIk",
        "outputId": "5ab35708-0069-4f4d-c33a-1cf6d151600d"
      },
      "outputs": [
        {
          "output_type": "stream",
          "name": "stdout",
          "text": [
            "Writing APlusB.cpp\n"
          ]
        }
      ],
      "source": [
        "%%writefile APlusB.cpp\n",
        "#include <iostream>\n",
        "\n",
        "int sum_of_two_digits(int first_digit, int second_digit) {\n",
        "    return first_digit + second_digit;\n",
        "}\n",
        "\n",
        "int main() {\n",
        "    int a = 0;\n",
        "    int b = 0;\n",
        "    std::cin >> a;\n",
        "    std::cin >> b;\n",
        "    std::cout << sum_of_two_digits(a, b);\n",
        "    return 0;\n",
        "}"
      ]
    },
    {
      "cell_type": "code",
      "execution_count": 3,
      "metadata": {
        "colab": {
          "base_uri": "https://localhost:8080/"
        },
        "id": "0G3ZKOYAPXSU",
        "outputId": "baf3314e-2bbd-4c26-8578-1082847069da"
      },
      "outputs": [
        {
          "output_type": "stream",
          "name": "stdout",
          "text": [
            "9"
          ]
        }
      ],
      "source": [
        "!g++ APlusB.cpp -o APlusB -std=c++11\n",
        "!echo \"4 5\" | ./APlusB"
      ]
    },
    {
      "cell_type": "markdown",
      "metadata": {
        "id": "iNkG2HqfTl9c"
      },
      "source": [
        "### Test input output files"
      ]
    },
    {
      "cell_type": "code",
      "execution_count": 4,
      "metadata": {
        "colab": {
          "base_uri": "https://localhost:8080/"
        },
        "id": "aTzU2efzMxly",
        "outputId": "b22f705a-11a9-48b3-e7b1-5fd834e60815"
      },
      "outputs": [
        {
          "output_type": "stream",
          "name": "stdout",
          "text": [
            "Writing input1.txt\n"
          ]
        }
      ],
      "source": [
        "%%writefile input1.txt\n",
        "4 8"
      ]
    },
    {
      "cell_type": "code",
      "execution_count": 5,
      "metadata": {
        "colab": {
          "base_uri": "https://localhost:8080/"
        },
        "id": "zBJ0Gc0NQRet",
        "outputId": "41e6eb98-dd12-48e1-b1cc-137d87525aab"
      },
      "outputs": [
        {
          "output_type": "stream",
          "name": "stdout",
          "text": [
            "Writing output1.txt\n"
          ]
        }
      ],
      "source": [
        "%%writefile output1.txt\n",
        "12"
      ]
    },
    {
      "cell_type": "code",
      "execution_count": 6,
      "metadata": {
        "colab": {
          "base_uri": "https://localhost:8080/"
        },
        "id": "IjEcIx63PJAN",
        "outputId": "d6c3f062-b102-4fe7-9b98-233bb41e073e"
      },
      "outputs": [
        {
          "output_type": "stream",
          "name": "stdout",
          "text": [
            "Writing input2.txt\n"
          ]
        }
      ],
      "source": [
        "%%writefile input2.txt\n",
        "0 9"
      ]
    },
    {
      "cell_type": "code",
      "execution_count": 7,
      "metadata": {
        "colab": {
          "base_uri": "https://localhost:8080/"
        },
        "id": "Up9gOrxURTmd",
        "outputId": "3cd9b20f-3d12-4631-d05b-37a88559b733"
      },
      "outputs": [
        {
          "output_type": "stream",
          "name": "stdout",
          "text": [
            "Writing output2.txt\n"
          ]
        }
      ],
      "source": [
        "%%writefile output2.txt\n",
        "9"
      ]
    },
    {
      "cell_type": "code",
      "execution_count": 8,
      "metadata": {
        "colab": {
          "base_uri": "https://localhost:8080/"
        },
        "id": "PST6G-s-Pwgc",
        "outputId": "fce1c5e4-dfe0-4975-fc90-c262b160276f"
      },
      "outputs": [
        {
          "output_type": "stream",
          "name": "stdout",
          "text": [
            "12"
          ]
        }
      ],
      "source": [
        "!./APlusB < input1.txt"
      ]
    },
    {
      "cell_type": "code",
      "execution_count": 9,
      "metadata": {
        "colab": {
          "base_uri": "https://localhost:8080/"
        },
        "id": "cKxZOjSlRfIN",
        "outputId": "adc9acb6-4f87-4358-e1e0-d59a7bdceb84"
      },
      "outputs": [
        {
          "output_type": "stream",
          "name": "stdout",
          "text": [
            "9"
          ]
        }
      ],
      "source": [
        "!./APlusB < input2.txt"
      ]
    },
    {
      "cell_type": "markdown",
      "metadata": {
        "id": "Qw2TQWCCUwqk"
      },
      "source": [
        "### Comparing files with grep\n",
        "\n",
        "https://askubuntu.com/questions/546796/comparing-two-text-files"
      ]
    },
    {
      "cell_type": "code",
      "execution_count": 10,
      "metadata": {
        "id": "WVIaAmMKU4QM"
      },
      "outputs": [],
      "source": [
        "!grep -xvFf output1.txt output1.txt"
      ]
    },
    {
      "cell_type": "code",
      "execution_count": 11,
      "metadata": {
        "colab": {
          "base_uri": "https://localhost:8080/"
        },
        "id": "MQU8gPPjQuYO",
        "outputId": "4b30796e-555b-4c43-905f-52034bd99c8c"
      },
      "outputs": [
        {
          "output_type": "stream",
          "name": "stdout",
          "text": [
            "9\n"
          ]
        }
      ],
      "source": [
        "!grep -xvFf output1.txt output2.txt"
      ]
    },
    {
      "cell_type": "code",
      "execution_count": 12,
      "metadata": {
        "colab": {
          "base_uri": "https://localhost:8080/"
        },
        "id": "jYL9OuYBTD_l",
        "outputId": "35afe0db-4d9e-4808-fdc5-187efa59c6de"
      },
      "outputs": [
        {
          "output_type": "stream",
          "name": "stdout",
          "text": [
            "12\n"
          ]
        }
      ],
      "source": [
        "!grep -xvFf output2.txt output1.txt"
      ]
    },
    {
      "cell_type": "code",
      "execution_count": 13,
      "metadata": {
        "id": "Jlja0Xm4TX9M"
      },
      "outputs": [],
      "source": [
        "!./APlusB < input1.txt> ctest1.txt\n",
        "!grep -xvFf output1.txt ctest1.txt"
      ]
    },
    {
      "cell_type": "code",
      "execution_count": 14,
      "metadata": {
        "id": "g9OIUZA_QLCQ"
      },
      "outputs": [],
      "source": [
        "!./APlusB < input2.txt > ctest2.txt\n",
        "!grep -xvFf output2.txt ctest2.txt"
      ]
    },
    {
      "cell_type": "markdown",
      "metadata": {
        "id": "3BgOaDjUVJk6"
      },
      "source": [
        "## Python"
      ]
    },
    {
      "cell_type": "code",
      "execution_count": 15,
      "metadata": {
        "colab": {
          "base_uri": "https://localhost:8080/"
        },
        "id": "DBvl-T0CTN_8",
        "outputId": "69bb319a-92b4-44ad-d9d6-f8a2402908e1"
      },
      "outputs": [
        {
          "output_type": "stream",
          "name": "stdout",
          "text": [
            "Writing sum.py\n"
          ]
        }
      ],
      "source": [
        "%%writefile sum.py\n",
        "# python3\n",
        "\n",
        "def sum_of_two_digits(first_digit, second_digit):\n",
        "    return first_digit + second_digit\n",
        "\n",
        "if __name__ == '__main__':\n",
        "    a, b = map(int, input().split())\n",
        "    print(sum_of_two_digits(a, b))"
      ]
    },
    {
      "cell_type": "code",
      "execution_count": 16,
      "metadata": {
        "colab": {
          "base_uri": "https://localhost:8080/"
        },
        "id": "QKoKM11_WGyF",
        "outputId": "07ec973f-3839-4dc7-ca18-85c5c809882d"
      },
      "outputs": [
        {
          "output_type": "stream",
          "name": "stdout",
          "text": [
            "100\n"
          ]
        }
      ],
      "source": [
        "!echo \"90 10\" | python sum.py\n"
      ]
    },
    {
      "cell_type": "code",
      "execution_count": 17,
      "metadata": {
        "id": "cocFbPRTWrqt"
      },
      "outputs": [],
      "source": [
        "!python sum.py  < input1.txt> ptest1.txt\n",
        "!grep -xvFf output1.txt ptest1.txt"
      ]
    },
    {
      "cell_type": "code",
      "execution_count": 18,
      "metadata": {
        "id": "MorKTa-XXASN"
      },
      "outputs": [],
      "source": [
        "!python sum.py  < input2.txt> ptest2.txt\n",
        "!grep -xvFf output2.txt ptest2.txt"
      ]
    },
    {
      "cell_type": "markdown",
      "metadata": {
        "id": "uvP-mOubW_5F"
      },
      "source": [
        "# II Solving The Maximum Pairwise Product Programming Challenge in C++"
      ]
    },
    {
      "cell_type": "markdown",
      "metadata": {
        "id": "C12yoFR6Xonl"
      },
      "source": [
        "## C++"
      ]
    },
    {
      "cell_type": "code",
      "execution_count": 19,
      "metadata": {
        "colab": {
          "base_uri": "https://localhost:8080/"
        },
        "id": "3LpfoGv2Ae81",
        "outputId": "5053fe31-4116-40e2-c837-f58cc614fd1f"
      },
      "outputs": [
        {
          "output_type": "stream",
          "name": "stdout",
          "text": [
            "Writing max_pairwise_product_full.cpp\n"
          ]
        }
      ],
      "source": [
        "%%writefile max_pairwise_product_full.cpp\n",
        "#include <iostream>\n",
        "#include <vector>\n",
        "#include <algorithm>\n",
        "\n",
        "int MaxPairwiseProduct(const std::vector<int>& numbers) {\n",
        "    int max_product = 0;\n",
        "    int aux_product = 0;\n",
        "    int n = numbers.size();\n",
        "\n",
        "    for (int first = 0; first < n; ++first) {\n",
        "        for (int second = 0; second < n; ++second) {\n",
        "          if ( first != second ){\n",
        "                aux_product = numbers[first] * numbers[second];\n",
        "                if (aux_product > max_product)  max_product = aux_product;\n",
        "          }\n",
        "        }\n",
        "    }\n",
        "\n",
        "    return max_product;\n",
        "}\n",
        "\n",
        "int main() {\n",
        "    int n;\n",
        "    std::cin >> n;\n",
        "    std::vector<int> numbers(n);\n",
        "    for (int i = 0; i < n; ++i) {\n",
        "        std::cin >> numbers[i];\n",
        "    }\n",
        "\n",
        "    std::cout << MaxPairwiseProduct(numbers) << \"\\n\";\n",
        "    return 0;\n",
        "}"
      ]
    },
    {
      "cell_type": "code",
      "execution_count": 20,
      "metadata": {
        "colab": {
          "base_uri": "https://localhost:8080/"
        },
        "id": "PCVo1h6nCF9k",
        "outputId": "974536aa-0d9d-4fd4-e8d8-0e3ae961fb1a"
      },
      "outputs": [
        {
          "output_type": "stream",
          "name": "stdout",
          "text": [
            "11445\n"
          ]
        }
      ],
      "source": [
        "!g++ max_pairwise_product_full.cpp -o max_pairwise_product_full\n",
        "!echo -e \"2\\n21 545\"|./max_pairwise_product_full\n"
      ]
    },
    {
      "cell_type": "markdown",
      "metadata": {
        "id": "m75IQQPbEHBS"
      },
      "source": [
        "$$n^2 \\ \\text{first != second  comparisons},  n^2 - n \\ \\ \\text{numbers[first] * numbers[second] products},  O(n^2)$$"
      ]
    },
    {
      "cell_type": "markdown",
      "metadata": {
        "id": "e7KhxHGNS3i0"
      },
      "source": [
        "### Test 1: Small numbers"
      ]
    },
    {
      "cell_type": "code",
      "execution_count": 21,
      "metadata": {
        "colab": {
          "base_uri": "https://localhost:8080/"
        },
        "id": "e1mmTzBgShT-",
        "outputId": "b801a7c2-31d7-4ae2-f2cf-b905cdb12161"
      },
      "outputs": [
        {
          "output_type": "stream",
          "name": "stdout",
          "text": [
            "Overwriting input1.txt\n"
          ]
        }
      ],
      "source": [
        "%%writefile input1.txt\n",
        "10\n",
        "1 2 3 4 5 6 7 8 9 10"
      ]
    },
    {
      "cell_type": "code",
      "execution_count": 22,
      "metadata": {
        "colab": {
          "base_uri": "https://localhost:8080/"
        },
        "id": "vy_uI0x7TCId",
        "outputId": "b01847ab-7e72-4478-8e43-6de9e95e2993"
      },
      "outputs": [
        {
          "output_type": "stream",
          "name": "stdout",
          "text": [
            "90\n"
          ]
        }
      ],
      "source": [
        "!./max_pairwise_product_full < input1.txt"
      ]
    },
    {
      "cell_type": "code",
      "execution_count": 23,
      "metadata": {
        "colab": {
          "base_uri": "https://localhost:8080/"
        },
        "id": "xaj6f9bxC6D6",
        "outputId": "e1cdebef-7735-4676-a712-ef8343dc4d59"
      },
      "outputs": [
        {
          "output_type": "stream",
          "name": "stdout",
          "text": [
            "Overwriting output1.txt\n"
          ]
        }
      ],
      "source": [
        "%%writefile output1.txt\n",
        "90"
      ]
    },
    {
      "cell_type": "code",
      "execution_count": 24,
      "metadata": {
        "id": "fYCjAdA_C-wy"
      },
      "outputs": [],
      "source": [
        "!./max_pairwise_product_full< input1.txt > ctest1.txt\n",
        "!grep -xvFf output1.txt ctest1.txt"
      ]
    },
    {
      "cell_type": "code",
      "execution_count": 25,
      "metadata": {
        "colab": {
          "base_uri": "https://localhost:8080/"
        },
        "id": "ZPe40LY14_6f",
        "outputId": "b50302e0-8e6a-4998-d7af-15aecb4bf1fb"
      },
      "outputs": [
        {
          "output_type": "stream",
          "name": "stdout",
          "text": [
            "Overwriting input2.txt\n"
          ]
        }
      ],
      "source": [
        "%%writefile input2.txt\n",
        "10\n",
        "10 9 8 7 6 5 4 3 2 1"
      ]
    },
    {
      "cell_type": "code",
      "execution_count": 26,
      "metadata": {
        "colab": {
          "base_uri": "https://localhost:8080/"
        },
        "id": "xiHmF7HA5Faa",
        "outputId": "bc76832f-c738-4cb7-bdc2-789183b2bb97"
      },
      "outputs": [
        {
          "output_type": "stream",
          "name": "stdout",
          "text": [
            "Overwriting output2.txt\n"
          ]
        }
      ],
      "source": [
        "%%writefile output2.txt\n",
        "90"
      ]
    },
    {
      "cell_type": "code",
      "execution_count": 27,
      "metadata": {
        "id": "jjwc9kwb5t_k"
      },
      "outputs": [],
      "source": [
        "!./max_pairwise_product_full< input2.txt > ctest2.txt\n",
        "!grep -xvFf output2.txt ctest2.txt"
      ]
    },
    {
      "cell_type": "markdown",
      "metadata": {
        "id": "IeZ3kTjpYmR9"
      },
      "source": [
        "### Test 2: largest input numbers 200000 200000 in the input"
      ]
    },
    {
      "cell_type": "code",
      "execution_count": 28,
      "metadata": {
        "colab": {
          "base_uri": "https://localhost:8080/"
        },
        "id": "LQNlZqaqYt7U",
        "outputId": "62a4fdd5-7fc3-4863-b7c7-5032513c12ca"
      },
      "outputs": [
        {
          "output_type": "stream",
          "name": "stdout",
          "text": [
            "Writing input3.txt\n"
          ]
        }
      ],
      "source": [
        "%%writefile input3.txt\n",
        "6\n",
        "1 3 200000 9 200000 23"
      ]
    },
    {
      "cell_type": "code",
      "execution_count": 29,
      "metadata": {
        "colab": {
          "base_uri": "https://localhost:8080/"
        },
        "id": "GjQq7QOUCw-9",
        "outputId": "9199cb7e-0579-4b59-8efe-24d4fb26885e"
      },
      "outputs": [
        {
          "output_type": "execute_result",
          "data": {
            "text/plain": [
              "40000000000"
            ]
          },
          "metadata": {},
          "execution_count": 29
        }
      ],
      "source": [
        "200000*200000"
      ]
    },
    {
      "cell_type": "code",
      "execution_count": 30,
      "metadata": {
        "colab": {
          "base_uri": "https://localhost:8080/"
        },
        "id": "EuS6n3jtDK5C",
        "outputId": "75039f4c-721d-4bc1-b409-99988d1ac9cb"
      },
      "outputs": [
        {
          "output_type": "stream",
          "name": "stdout",
          "text": [
            "Writing output3.txt\n"
          ]
        }
      ],
      "source": [
        "%%writefile output3.txt\n",
        "40000000000"
      ]
    },
    {
      "cell_type": "code",
      "execution_count": 31,
      "metadata": {
        "colab": {
          "base_uri": "https://localhost:8080/"
        },
        "id": "2Wad2VZUZDxR",
        "outputId": "2eed4703-121c-4230-ca22-e400fb721665"
      },
      "outputs": [
        {
          "output_type": "stream",
          "name": "stdout",
          "text": [
            "1345294336\n"
          ]
        }
      ],
      "source": [
        "!./max_pairwise_product_full < input3.txt"
      ]
    },
    {
      "cell_type": "code",
      "execution_count": 32,
      "metadata": {
        "colab": {
          "base_uri": "https://localhost:8080/"
        },
        "id": "pEvp1ieyDJGq",
        "outputId": "60aab2b8-81b3-4560-b474-a89970bee613"
      },
      "outputs": [
        {
          "output_type": "stream",
          "name": "stdout",
          "text": [
            "1345294336\n"
          ]
        }
      ],
      "source": [
        "!./max_pairwise_product_full < input3.txt > ctest3.txt\n",
        "!grep -xvFf output3.txt ctest3.txt"
      ]
    },
    {
      "cell_type": "code",
      "execution_count": 33,
      "metadata": {
        "colab": {
          "base_uri": "https://localhost:8080/"
        },
        "id": "SrtJrKqM-God",
        "outputId": "542d96e2-acab-4106-a837-8bd68667d419"
      },
      "outputs": [
        {
          "output_type": "stream",
          "name": "stdout",
          "text": [
            "Writing run_all_test.sh\n"
          ]
        }
      ],
      "source": [
        " %%writefile run_all_test.sh\n",
        "#!/bin/bash\n",
        "g++ max_pairwise_product_full.cpp -o max_pairwise_product_full\n",
        "for i in {1..3}\n",
        "do\n",
        "    ./max_pairwise_product_full < input$i.txt > ctest$i.txt\n",
        "    grep -xvFf output$i.txt ctest$i.txt\n",
        "done"
      ]
    },
    {
      "cell_type": "code",
      "execution_count": 34,
      "metadata": {
        "colab": {
          "base_uri": "https://localhost:8080/"
        },
        "id": "wGWMHtzS-QnA",
        "outputId": "b810d809-63ba-4319-9688-1b8c553e8d31"
      },
      "outputs": [
        {
          "output_type": "stream",
          "name": "stdout",
          "text": [
            "1345294336\n"
          ]
        }
      ],
      "source": [
        "!chmod u+x run_all_test.sh\n",
        "!./run_all_test.sh"
      ]
    },
    {
      "cell_type": "markdown",
      "metadata": {
        "id": "H2SC0Qt5HCzz"
      },
      "source": [
        "Changing the variables to long long"
      ]
    },
    {
      "cell_type": "code",
      "execution_count": 35,
      "metadata": {
        "colab": {
          "base_uri": "https://localhost:8080/"
        },
        "id": "MPcmsxiQZSfE",
        "outputId": "abf19d1e-c6dd-4690-9cf8-f69c00fa82ff"
      },
      "outputs": [
        {
          "output_type": "stream",
          "name": "stdout",
          "text": [
            "Writing max_pairwise_product_long_full.cpp\n"
          ]
        }
      ],
      "source": [
        "%%writefile max_pairwise_product_long_full.cpp\n",
        "#include <iostream>\n",
        "#include <vector>\n",
        "#include <algorithm>\n",
        "\n",
        "long long MaxPairwiseProduct(const std::vector<long long>& numbers) {\n",
        "    long long max_product = 0LL;\n",
        "\t  long long aux_product = 0LL;\n",
        "    int n = numbers.size();\n",
        "\n",
        "    for (int first = 0; first < n; ++first) {\n",
        "        for (int second = 0; second < n; ++second) {\n",
        "          if ( first != second){\n",
        "                aux_product = (long long) numbers[first] * numbers[second];\n",
        "                if (aux_product > max_product)  max_product = aux_product;\n",
        "          }\n",
        "        }\n",
        "    }\n",
        "\n",
        "\n",
        "    return max_product;\n",
        "}\n",
        "\n",
        "int main() {\n",
        "    int n;\n",
        "    std::cin >> n;\n",
        "    std::vector<long long> numbers(n);\n",
        "    for (int i = 0; i < n; ++i) {\n",
        "        std::cin >> numbers[i];\n",
        "    }\n",
        "\n",
        "    std::cout << MaxPairwiseProduct(numbers) << \"\\n\";\n",
        "    return 0;\n",
        "}\n"
      ]
    },
    {
      "cell_type": "code",
      "execution_count": 36,
      "metadata": {
        "id": "W3xQpFXL6wjO"
      },
      "outputs": [],
      "source": [
        "!g++ max_pairwise_product_long_full.cpp -o max_pairwise_product_long_full"
      ]
    },
    {
      "cell_type": "code",
      "execution_count": 37,
      "metadata": {
        "colab": {
          "base_uri": "https://localhost:8080/"
        },
        "id": "H5dvN9M3R9sV",
        "outputId": "e76cf987-12f2-42f6-ee36-714712e2df48"
      },
      "outputs": [
        {
          "output_type": "stream",
          "name": "stdout",
          "text": [
            "40000000000\n"
          ]
        }
      ],
      "source": [
        "!./max_pairwise_product_long_full < input3.txt"
      ]
    },
    {
      "cell_type": "markdown",
      "metadata": {
        "id": "gx-sEYdfQ8f8"
      },
      "source": [
        "### Runing multuple test with a bash shell"
      ]
    },
    {
      "cell_type": "code",
      "execution_count": 38,
      "metadata": {
        "colab": {
          "base_uri": "https://localhost:8080/"
        },
        "id": "O9qsq2nn7elw",
        "outputId": "22a4c220-3e52-45af-d0d4-295b9c22d80c"
      },
      "outputs": [
        {
          "output_type": "stream",
          "name": "stdout",
          "text": [
            "Overwriting run_all_test.sh\n"
          ]
        }
      ],
      "source": [
        " %%writefile run_all_test.sh\n",
        "#!/bin/bash\n",
        "g++ max_pairwise_product_long_full.cpp -o max_pairwise_product_long_full\n",
        "for i in {1..3}\n",
        "do\n",
        "    ./max_pairwise_product_long_full < input$i.txt > ctest$i.txt\n",
        "    grep -xvFf output$i.txt ctest$i.txt\n",
        "done"
      ]
    },
    {
      "cell_type": "code",
      "execution_count": 39,
      "metadata": {
        "id": "0g5kKVph7xIA"
      },
      "outputs": [],
      "source": [
        "!chmod u+x run_all_test.sh\n",
        "!./run_all_test.sh"
      ]
    },
    {
      "cell_type": "markdown",
      "metadata": {
        "id": "XPVHkHxH6_7s"
      },
      "source": [
        "### Test 3  stress tests 6 testing cases files input4.txt/output4.txt .. input10.txt/output10.txt\n",
        "\n",
        "---\n",
        "\n"
      ]
    },
    {
      "cell_type": "code",
      "execution_count": 40,
      "metadata": {
        "colab": {
          "base_uri": "https://localhost:8080/"
        },
        "id": "PwqpBmYr69fu",
        "outputId": "96c3bb2b-3d7f-4685-c87e-62ac507b1825"
      },
      "outputs": [
        {
          "output_type": "stream",
          "name": "stdout",
          "text": [
            "Writing input4.txt\n"
          ]
        }
      ],
      "source": [
        "%%writefile input4.txt\n",
        "7\n",
        "5 12 100000 19 17 200000 23"
      ]
    },
    {
      "cell_type": "code",
      "execution_count": 41,
      "metadata": {
        "colab": {
          "base_uri": "https://localhost:8080/"
        },
        "id": "jBCkMeR6Fw4y",
        "outputId": "c53d7f13-72ed-4838-9592-cc68342620e3"
      },
      "outputs": [
        {
          "output_type": "stream",
          "name": "stdout",
          "text": [
            "Writing output4.txt\n"
          ]
        }
      ],
      "source": [
        "%%writefile output4.txt\n",
        "20000000000"
      ]
    },
    {
      "cell_type": "code",
      "execution_count": 42,
      "metadata": {
        "colab": {
          "base_uri": "https://localhost:8080/"
        },
        "id": "vPrdE3V2lRWJ",
        "outputId": "aa0d285f-ef4f-4cf6-c543-9ab4adf5ad8f"
      },
      "outputs": [
        {
          "output_type": "stream",
          "name": "stdout",
          "text": [
            "Overwriting run_all_test.sh\n"
          ]
        }
      ],
      "source": [
        " %%writefile run_all_test.sh\n",
        "#!/bin/bash\n",
        "g++ max_pairwise_product_long_full.cpp -o max_pairwise_product_long_full\n",
        "for i in {1..4}\n",
        "do\n",
        "    ./max_pairwise_product_long_full < input$i.txt > ctest$i.txt\n",
        "    grep -xvFf output$i.txt ctest$i.txt\n",
        "done"
      ]
    },
    {
      "cell_type": "code",
      "execution_count": 43,
      "metadata": {
        "id": "U6vsY1lQlV6i"
      },
      "outputs": [],
      "source": [
        "!chmod u+x run_all_test.sh\n",
        "!./run_all_test.sh"
      ]
    },
    {
      "cell_type": "markdown",
      "metadata": {
        "id": "LqBme98V7J_Y"
      },
      "source": [
        "For testing the the result:"
      ]
    },
    {
      "cell_type": "code",
      "execution_count": 44,
      "metadata": {
        "colab": {
          "base_uri": "https://localhost:8080/"
        },
        "id": "vor8AHPg6IBB",
        "outputId": "fe667ac4-aa47-4820-dd26-2b623d249f78"
      },
      "outputs": [
        {
          "output_type": "stream",
          "name": "stdout",
          "text": [
            "Files are identical.\n"
          ]
        }
      ],
      "source": [
        "%%bash\n",
        "if diff -y output4.txt ctest4.txt > /dev/null; then\n",
        "  echo \"Files are identical.\"\n",
        "else\n",
        "  echo \"Error: Files are different.\"\n",
        "fi"
      ]
    },
    {
      "cell_type": "code",
      "execution_count": 45,
      "metadata": {
        "colab": {
          "base_uri": "https://localhost:8080/"
        },
        "id": "Wj0x4kGX_LUH",
        "outputId": "3a8e3169-5e1f-4c97-98a6-85184d12a769"
      },
      "outputs": [
        {
          "output_type": "stream",
          "name": "stdout",
          "text": [
            "Writing master_input.txt\n"
          ]
        }
      ],
      "source": [
        "%%writefile master_input.txt\n",
        "3\n",
        "34567 87654 12938\n",
        "4\n",
        "98632 43219 58743 23018\n",
        "5\n",
        "54236 12789 63421 78934 12864\n",
        "4\n",
        "15489 98543 31654 47321\n",
        "3\n",
        "25678 78392 34892\n",
        "2\n",
        "91537 28916\n",
        "5\n",
        "15378 85294 47126 23985 62341\n",
        "3\n",
        "78942 31569 67231\n",
        "4\n",
        "34671 12895 89653 65432\n",
        "3\n",
        "49751 34821 67295"
      ]
    },
    {
      "cell_type": "code",
      "execution_count": 46,
      "metadata": {
        "colab": {
          "base_uri": "https://localhost:8080/"
        },
        "id": "EBoF1gpg_W_W",
        "outputId": "8f11f428-8138-44c1-dbef-3806cff7f700"
      },
      "outputs": [
        {
          "output_type": "stream",
          "name": "stdout",
          "text": [
            "Writing master_output.txt\n"
          ]
        }
      ],
      "source": [
        "%%writefile master_output.txt\n",
        "3029935818\n",
        "5793939576\n",
        "5006073214\n",
        "4663153303\n",
        "2735253664\n",
        "2646883892\n",
        "5317313254\n",
        "5307349602\n",
        "5866175096\n",
        "3347993545"
      ]
    },
    {
      "cell_type": "code",
      "execution_count": 47,
      "metadata": {
        "colab": {
          "base_uri": "https://localhost:8080/"
        },
        "id": "uh4ROvQu_kCu",
        "outputId": "5c525a9d-fdfb-4aa1-9e86-12f1dc3a15a0"
      },
      "outputs": [
        {
          "output_type": "stream",
          "name": "stdout",
          "text": [
            "Writing run_all_master_test.sh\n"
          ]
        }
      ],
      "source": [
        "%%writefile run_all_master_test.sh\n",
        "#!/bin/bash\n",
        "\n",
        "# Compile the C++ program\n",
        "g++ max_pairwise_product_long_full.cpp -o max_pairwise_product_long_full\n",
        "\n",
        "> master_ctest.txt\n",
        "\n",
        "# Read master_input.txt two lines at a time and run the C++ program\n",
        "while IFS= read -r line1 && IFS= read -r line2; do\n",
        "  printf \"%s\\n%s\\n\" \"$line1\" \"$line2\" | ./max_pairwise_product_long_full >> master_ctest.txt\n",
        "done < master_input.txt\n",
        "\n",
        "# Compare output with the master output file\n",
        "if diff -y master_output.txt master_ctest.txt > /dev/null; then\n",
        "  echo \"All tests passed\"\n",
        "else\n",
        "  echo \"Test Error: Check the 'master_ctest.txt' for mismatches\"\n",
        "  diff -y master_output.txt master_ctest.txt > diff.txt\n",
        "  cat diff.txt\n",
        "fi\n"
      ]
    },
    {
      "cell_type": "code",
      "execution_count": 48,
      "metadata": {
        "colab": {
          "base_uri": "https://localhost:8080/"
        },
        "id": "k6DvPRKC__cW",
        "outputId": "222acae6-e8f9-4602-9aee-f594144e3e59"
      },
      "outputs": [
        {
          "output_type": "stream",
          "name": "stdout",
          "text": [
            "All tests passed\n"
          ]
        }
      ],
      "source": [
        "!chmod u+x run_all_master_test.sh\n",
        "!./run_all_master_test.sh"
      ]
    },
    {
      "cell_type": "markdown",
      "metadata": {
        "id": "k7pW8PJiGrIS"
      },
      "source": [
        "Modify Function"
      ]
    },
    {
      "cell_type": "markdown",
      "metadata": {
        "id": "9z9yr5QkeyJF"
      },
      "source": [
        "### Test 4  time test  measure the execution time running with the the largest worst cases input11.txt  (200000 increasing numbers) and inoput12.txt (199998 increasing numbers and  200000, 200000 at the end)"
      ]
    },
    {
      "cell_type": "code",
      "execution_count": 49,
      "metadata": {
        "colab": {
          "base_uri": "https://localhost:8080/"
        },
        "id": "UmB1ipWM_nSk",
        "outputId": "e8960b0d-cfe3-4455-c98f-233bd6288b1a"
      },
      "outputs": [
        {
          "output_type": "stream",
          "name": "stdout",
          "text": [
            "Writing WriteTest.cpp\n"
          ]
        }
      ],
      "source": [
        "# input11.txt 200000 increasing numbers:  1 2 .. 200000\n",
        "\n",
        "%%writefile WriteTest.cpp\n",
        "\n",
        "#include <iostream>\n",
        "#include <fstream>\n",
        "#include <cstdlib>\n",
        "\n",
        "using namespace std;\n",
        "\n",
        "int main() {\n",
        "  // Create and open a text file\n",
        "  ofstream MyFile(\"input11.txt\");\n",
        "\n",
        " MyFile << 200000 <<\"\\n\";  // n\n",
        " for (int i=1; i <200001; i++){\n",
        "     MyFile << i <<\" \";\n",
        " }\n",
        "\n",
        "  // Close the file\n",
        "  MyFile.close();\n",
        "}"
      ]
    },
    {
      "cell_type": "code",
      "execution_count": 50,
      "metadata": {
        "id": "EH25TkOkZfD9"
      },
      "outputs": [],
      "source": [
        "!g++ WriteTest.cpp -o WriteTest\n",
        "!./WriteTest"
      ]
    },
    {
      "cell_type": "code",
      "execution_count": 51,
      "metadata": {
        "colab": {
          "base_uri": "https://localhost:8080/"
        },
        "id": "j0mokSOnCCtZ",
        "outputId": "07408e3a-01d6-46ee-cf11-f733e484f822"
      },
      "outputs": [
        {
          "output_type": "execute_result",
          "data": {
            "text/plain": [
              "39999800000"
            ]
          },
          "metadata": {},
          "execution_count": 51
        }
      ],
      "source": [
        "199999 * 200000"
      ]
    },
    {
      "cell_type": "code",
      "execution_count": 52,
      "metadata": {
        "colab": {
          "base_uri": "https://localhost:8080/"
        },
        "id": "VoDhDV73B5Mo",
        "outputId": "0dc4bad2-e8ac-4290-f887-526fae68ce11"
      },
      "outputs": [
        {
          "output_type": "stream",
          "name": "stdout",
          "text": [
            "Writing output11.txt\n"
          ]
        }
      ],
      "source": [
        "%%writefile output11.txt\n",
        "39999800000"
      ]
    },
    {
      "cell_type": "code",
      "execution_count": 53,
      "metadata": {
        "colab": {
          "base_uri": "https://localhost:8080/"
        },
        "id": "oLiMjbAIfPlX",
        "outputId": "3894c76d-830e-4142-9337-757998cd0745"
      },
      "outputs": [
        {
          "output_type": "stream",
          "name": "stdout",
          "text": [
            "Overwriting WriteTest.cpp\n"
          ]
        }
      ],
      "source": [
        "# input12.txt 200000 decreasing numbers and 200000, 199999 ...  2 1\n",
        "\n",
        "%%writefile WriteTest.cpp\n",
        "\n",
        "#include <iostream>\n",
        "#include <fstream>\n",
        "#include <cstdlib>\n",
        "\n",
        "using namespace std;\n",
        "\n",
        "int main() {\n",
        "  // Create and open a text file\n",
        "  ofstream MyFile(\"input12.txt\");\n",
        "\n",
        " MyFile << 200000 <<\"\\n\";  // n\n",
        " for (int i=1; i <200001; i++){\n",
        "     MyFile << 200001-i <<\" \";\n",
        " }\n",
        "\n",
        "  // Close the file\n",
        "  MyFile.close();\n",
        "}"
      ]
    },
    {
      "cell_type": "code",
      "execution_count": 54,
      "metadata": {
        "id": "oULNBr_zAd9c"
      },
      "outputs": [],
      "source": [
        "!g++ WriteTest.cpp -o WriteTest\n",
        "!./WriteTest"
      ]
    },
    {
      "cell_type": "code",
      "execution_count": 55,
      "metadata": {
        "colab": {
          "base_uri": "https://localhost:8080/"
        },
        "id": "PQLyocaFB-y4",
        "outputId": "5e00f89f-44fb-41e4-87be-a47d8ed76f5d"
      },
      "outputs": [
        {
          "output_type": "stream",
          "name": "stdout",
          "text": [
            "Writing output12.txt\n"
          ]
        }
      ],
      "source": [
        "%%writefile output12.txt\n",
        "39999800000"
      ]
    },
    {
      "cell_type": "markdown",
      "metadata": {
        "id": "JB6f03qO-lj9"
      },
      "source": [
        "Measure time\n",
        "\n",
        "https://askubuntu.com/questions/53444/how-can-i-measure-the-execution-time-of-a-terminal-process"
      ]
    },
    {
      "cell_type": "code",
      "execution_count": 56,
      "metadata": {
        "colab": {
          "base_uri": "https://localhost:8080/"
        },
        "id": "6p2QLEr576zk",
        "outputId": "c13843dc-7f4f-4a23-aa21-d57dd47301d7"
      },
      "outputs": [
        {
          "output_type": "stream",
          "name": "stdout",
          "text": [
            "39999800000\n",
            "\n",
            "real\t5m0.599s\n",
            "user\t4m57.388s\n",
            "sys\t0m0.136s\n"
          ]
        }
      ],
      "source": [
        "!g++ max_pairwise_product_long_full.cpp -o max_pairwise_product_long_full\n",
        "!time ./max_pairwise_product_long_full< input11.txt"
      ]
    },
    {
      "cell_type": "code",
      "execution_count": 57,
      "metadata": {
        "colab": {
          "base_uri": "https://localhost:8080/"
        },
        "id": "cnjCyeUdAnZj",
        "outputId": "a2ea6b23-abcb-445d-d719-8f2595f16d65"
      },
      "outputs": [
        {
          "output_type": "stream",
          "name": "stdout",
          "text": [
            "39999800000\n",
            "\n",
            "real\t4m57.906s\n",
            "user\t4m55.341s\n",
            "sys\t0m0.106s\n"
          ]
        }
      ],
      "source": [
        "!g++ max_pairwise_product_long_full.cpp -o max_pairwise_product_long_full\n",
        "!time ./max_pairwise_product_long_full< input12.txt"
      ]
    },
    {
      "cell_type": "markdown",
      "metadata": {
        "id": "FXClpBsUJuXC"
      },
      "source": [
        "##### Calculate the number or and upper bound to the number of instructions executed by the algorithm as a function of n, add in each line a comment with the number of instructions that are executed in that line."
      ]
    },
    {
      "cell_type": "code",
      "execution_count": 58,
      "metadata": {
        "colab": {
          "base_uri": "https://localhost:8080/"
        },
        "id": "uG6Mv-Pwlkii",
        "outputId": "81d60144-0058-4b9d-8c4f-32da7174acb4"
      },
      "outputs": [
        {
          "output_type": "stream",
          "name": "stdout",
          "text": [
            "Overwriting max_pairwise_product_long_full.cpp\n"
          ]
        }
      ],
      "source": [
        "%%writefile max_pairwise_product_long_full.cpp\n",
        "#include <iostream>\n",
        "#include <vector>\n",
        "#include <algorithm>\n",
        "\n",
        "long long MaxPairwiseProduct(const std::vector<int>& numbers) {              //N inst exec by line executed\n",
        "    long long max_product = 0LL;                                             //1\n",
        "\t  long long aux_product = 0LL;                                             //1\n",
        "    int n = numbers.size();                                                  //1\n",
        "\n",
        "    for (int first = 0; first < n; ++first) {                                //1+2n\n",
        "        for (int second = 0; second < n; ++second) {                         //n + 2n**2\n",
        "          if ( first != second ){                                            //n**2\n",
        "                aux_product = numbers[first] * numbers[second];              //n**2 -n\n",
        "                if (aux_product > max_product)                               //n**2 -n\n",
        "                    max_product = aux_product;                               //[1, n**2/2 - n/2] upper bound\n",
        "          }\n",
        "        }\n",
        "    }\n",
        "\n",
        "                                                                             // --------------\n",
        "    return max_product;                                                      // 4 + n + [5*n**2+1, 11*n**2/2  - n/2]  upper bound\n",
        "}\n",
        "\n",
        "int main() {                                              //N inst exec by line executed\n",
        "    int n;                                                //1\n",
        "    std::cin >> n;                                        //1\n",
        "    std::vector<int> numbers(n);                          //n\n",
        "    for (int i = 0; i < n; ++i) {                         //1 + 2n\n",
        "        std::cin >> numbers[i];                           //n\n",
        "    }\n",
        "\n",
        "    std::cout << MaxPairwiseProduct(numbers) << \"\\n\";     //1 + 1  + 4 + n + [5*n**2+1, 11*n**2/2  - n/2]\n",
        "\n",
        "    return 0;                                             // --------------\n",
        "}                                                         //  9 + 5*n + [5*n**2+1, 11*n**2/2  - n/2]  upper bound\n"
      ]
    },
    {
      "cell_type": "markdown",
      "metadata": {
        "id": "0vTsUg8OwcHs"
      },
      "source": [
        "Count executed intructions in code"
      ]
    },
    {
      "cell_type": "code",
      "execution_count": 59,
      "metadata": {
        "colab": {
          "base_uri": "https://localhost:8080/"
        },
        "id": "CuRKkqQc137V",
        "outputId": "eecaaaef-a968-4286-c13e-46d8c0ef1cb4"
      },
      "outputs": [
        {
          "output_type": "stream",
          "name": "stdout",
          "text": [
            "Writing max_pairwise_product_long_full_execints.cpp\n"
          ]
        }
      ],
      "source": [
        "%%writefile max_pairwise_product_long_full_execints.cpp\n",
        "#include <iostream>\n",
        "#include <vector>\n",
        "#include <algorithm>\n",
        "\n",
        "long long MaxPairwiseProduct(const std::vector<int>& numbers, long long &execints) {              //N inst exec by line executed\n",
        "\n",
        "    long long max_product = 0LL;                                             //1\n",
        "    execints++;\n",
        "\n",
        "\t  long long aux_product = 0LL;                                             //1\n",
        "    execints++;\n",
        "\n",
        "    int n = numbers.size();                                                  //1\n",
        "    execints++;\n",
        "\n",
        "    execints++;\n",
        "    for (int first = 0; first < n; ++first) {                                //1+2n\n",
        "        execints += 2;\n",
        "\n",
        "        execints++;\n",
        "        for (int second = 0; second < n; ++second) {                         //n + 2n**2\n",
        "          execints += 2;\n",
        "\n",
        "          execints++;\n",
        "          if ( first != second ){                                            //n**2\n",
        "                aux_product = numbers[first] * numbers[second];              //n**2 -n\n",
        "                execints++;\n",
        "\n",
        "                execints++;\n",
        "                if (aux_product > max_product){                               //n**2 -n\n",
        "                    max_product = aux_product;                               //[1,n**2/2 - n/2]  upper bound\n",
        "                    execints++;\n",
        "\n",
        "                }\n",
        "        }\n",
        "      }\n",
        "    }\n",
        "                                                                            // --------------\n",
        "    return max_product;                                                     // 4 + n + [5*n**2+1, 11*n**2/2  - n/2] upper bound\n",
        "}\n",
        "\n",
        "int main() {                                                 //N inst exec by line executed\n",
        "\n",
        "    long long execints =0LL;\n",
        "\n",
        "    int n;                                                   //1\n",
        "    execints++;\n",
        "\n",
        "    std::cin >> n;                                           //1\n",
        "    execints++;\n",
        "\n",
        "    std::vector<int> numbers(n);                             //n\n",
        "    execints += n;\n",
        "\n",
        "    execints++;\n",
        "    for (int i = 0; i < n; ++i) {                            //1 + 2n\n",
        "        execints += 2;\n",
        "\n",
        "        std::cin >> numbers[i];\n",
        "        execints++;                                          //n\n",
        "\n",
        "    }\n",
        "\n",
        "\n",
        "\n",
        "    //std::cout << MaxPairwiseProduct(numbers) << \"\\n\";      //1 + 1  + 4 + n + [5*n**2+1, 11*n**2/2  - n/2] upper bound\n",
        "\n",
        "\n",
        "    execints++;\n",
        "    int M = MaxPairwiseProduct(numbers,execints);\n",
        "\n",
        "    execints++;\n",
        "    std::cout <<  execints << \"\\n\";\n",
        "    return 0;                                                // --------------\n",
        "}                                                            // 9 + 5*n + [5*n**2+1, 11*n**2/2  - n/2]"
      ]
    },
    {
      "cell_type": "markdown",
      "metadata": {
        "id": "cUjHtvtdDsmr"
      },
      "source": [
        "The number of instructions executed by the algooirithm with a list of size $n$ is  \n",
        "\n",
        "$$T (n) = 9 + 5n + \\left[5n^2+1, 11\\frac{n^2}{2}  - \\frac{n}{2}\\right] \\ \\  \\text{upper bound}$$\n",
        "\n",
        "It depends on the size of the lists and  the order of the list.\n",
        "\n",
        "For the input1.txt\n",
        "```\n",
        "10\n",
        "1 2 3 4 5 6 7 8 9 10\n",
        "```\n",
        "$$T = 9 + 5(10) + 5(10)(10) +  9 + 5 + 4 + 3 + 2 + 2 + 2 + 2 + 1 + 0  = 589 $$\n",
        "\n",
        "$$T(10) \\in [560, 604]  $$\n"
      ]
    },
    {
      "cell_type": "code",
      "execution_count": null,
      "metadata": {
        "id": "Ce_N6F3LOdut"
      },
      "outputs": [],
      "source": [
        "#The number of times that  max_product = aux_product; in the worst case is less than (n**2 -n)/2 -  upper bound\n",
        "\n",
        "  1  2  3  4  5  6  7  8  9  10\n",
        "1  x  2  3  4  5  6  7  8  9  10         9\n",
        "2  2  x  6  8  10 12 14 16 18 20         5 14\n",
        "3  3  6  x  12 15 18 21 24 27 30         4 18\n",
        "4  4  8  12 x  20 24 28 32 36 40         3 21\n",
        "5  5  10 15 20 x  30 35 40 45 50         2 23\n",
        "6  6  12 18 24 30 x  42 48 54 60         2 25\n",
        "7  7  14 21 28 35 42 x  56 63 70         2 27\n",
        "8  8  18 27 36 45 54 63 72 x  90         1 30\n",
        "10 10 20 30 40 50 60 70 60 90 x          0"
      ]
    },
    {
      "cell_type": "code",
      "execution_count": 61,
      "metadata": {
        "colab": {
          "base_uri": "https://localhost:8080/"
        },
        "id": "E3O8dzFfEgir",
        "outputId": "122e4cf2-fe0e-43f3-f3f0-7c9f6677de2a"
      },
      "outputs": [
        {
          "output_type": "execute_result",
          "data": {
            "text/plain": [
              "589"
            ]
          },
          "metadata": {},
          "execution_count": 61
        }
      ],
      "source": [
        "9 + 5*(10) + 5*(10)*(10) +  9 + 5 + 4 + 3 + 2 + 2 + 2 + 2 + 1 + 0"
      ]
    },
    {
      "cell_type": "code",
      "execution_count": 64,
      "metadata": {
        "colab": {
          "base_uri": "https://localhost:8080/"
        },
        "id": "TCpdl5u_Gq1a",
        "outputId": "c891e5f0-5cf5-445e-9dde-5325c5deced1"
      },
      "outputs": [
        {
          "output_type": "stream",
          "name": "stdout",
          "text": [
            "560 604.0\n"
          ]
        }
      ],
      "source": [
        "n = 10\n",
        "print( 9 + 5*n + 5*n**2+1,  9 + 5*n + 11*n**2/2  - n/2)"
      ]
    },
    {
      "cell_type": "code",
      "execution_count": 65,
      "metadata": {
        "colab": {
          "base_uri": "https://localhost:8080/"
        },
        "id": "Kuvm1C05ly2a",
        "outputId": "b64409e4-df0e-49c2-e314-aa428e26db89"
      },
      "outputs": [
        {
          "output_type": "stream",
          "name": "stdout",
          "text": [
            "589\n"
          ]
        }
      ],
      "source": [
        "!g++ max_pairwise_product_long_full_execints.cpp -o max_pairwise_product_long_full_execints\n",
        "!./max_pairwise_product_long_full_execints < input1.txt"
      ]
    },
    {
      "cell_type": "markdown",
      "metadata": {
        "id": "Yr_Lb7CaHfxB"
      },
      "source": [
        "\n",
        "For the input2.txt\n",
        "```\n",
        "10\n",
        "10 9 8 7 6 5 4 3 2 1\n",
        "```\n",
        "$$T = 9 + 5*(10) + 5*(10)**2 +  1  = 560 $$"
      ]
    },
    {
      "cell_type": "code",
      "execution_count": 66,
      "metadata": {
        "colab": {
          "base_uri": "https://localhost:8080/"
        },
        "id": "HOdqlwJiZUIp",
        "outputId": "52f86abc-b177-4f14-deb5-af5b93276098"
      },
      "outputs": [
        {
          "output_type": "execute_result",
          "data": {
            "text/plain": [
              "560"
            ]
          },
          "metadata": {},
          "execution_count": 66
        }
      ],
      "source": [
        "9 + 5*(10) + 5*(10)**2 +  1"
      ]
    },
    {
      "cell_type": "code",
      "execution_count": 67,
      "metadata": {
        "colab": {
          "base_uri": "https://localhost:8080/"
        },
        "id": "_znzLectjFSe",
        "outputId": "d2361945-5cdf-4395-f361-8a1d50dd52ec"
      },
      "outputs": [
        {
          "output_type": "stream",
          "name": "stdout",
          "text": [
            "296\n"
          ]
        }
      ],
      "source": [
        "!g++ max_pairwise_product_long_full_execints.cpp -o max_pairwise_product_long_full_execints\n",
        "!./max_pairwise_product_long_full_execints < input4.txt\n",
        "n= 10"
      ]
    },
    {
      "cell_type": "markdown",
      "metadata": {
        "id": "L_uaamxeAHK7"
      },
      "source": [
        "\n",
        "For the input12.txt\n",
        "```\n",
        "200000\n",
        "200000  199999 ... 2 1\n",
        "```\n",
        "$$T = 9 + 5*(200000) + 5*(200000)**2 +1  = 200001000010 $$\n",
        "\n"
      ]
    },
    {
      "cell_type": "code",
      "execution_count": 68,
      "metadata": {
        "colab": {
          "base_uri": "https://localhost:8080/"
        },
        "id": "c7X-ewmeXe-h",
        "outputId": "6cba210d-46f3-475a-9d92-406e96b631e7"
      },
      "outputs": [
        {
          "output_type": "execute_result",
          "data": {
            "text/plain": [
              "200001000010"
            ]
          },
          "metadata": {},
          "execution_count": 68
        }
      ],
      "source": [
        "9 + 5*(200000) + 5*(200000)**2 +1"
      ]
    },
    {
      "cell_type": "markdown",
      "metadata": {
        "id": "NXW7QkoBL6xH"
      },
      "source": [
        "Calculate estimated time by instruction and number of instructions by second"
      ]
    },
    {
      "cell_type": "code",
      "execution_count": 69,
      "metadata": {
        "colab": {
          "base_uri": "https://localhost:8080/"
        },
        "id": "BMH8mF3EKn2w",
        "outputId": "eb235b2f-3582-4ed2-f0a3-9a5f2005a947"
      },
      "outputs": [
        {
          "output_type": "stream",
          "name": "stdout",
          "text": [
            "200001000021\n",
            "\n",
            "real\t7m45.503s\n",
            "user\t7m41.579s\n",
            "sys\t0m0.118s\n"
          ]
        }
      ],
      "source": [
        "!g++ max_pairwise_product_long_full_execints.cpp -o max_pairwise_product_long_full_execints\n",
        "!time ./max_pairwise_product_long_full_execints < input12.txt\n"
      ]
    },
    {
      "cell_type": "code",
      "execution_count": 70,
      "metadata": {
        "colab": {
          "base_uri": "https://localhost:8080/"
        },
        "id": "pKqB3i7dIxnc",
        "outputId": "3c3d8f72-4a7a-4779-b025-d69d17cffc95"
      },
      "outputs": [
        {
          "output_type": "execute_result",
          "data": {
            "text/plain": [
              "1.5299923499617505e-09"
            ]
          },
          "metadata": {},
          "execution_count": 70
        }
      ],
      "source": [
        "# Estimated time by instruction\n",
        "\n",
        "306/200001000010\n"
      ]
    },
    {
      "cell_type": "code",
      "execution_count": 71,
      "metadata": {
        "colab": {
          "base_uri": "https://localhost:8080/"
        },
        "id": "18N1ouqeMhE1",
        "outputId": "b172b379-9aa2-45e9-dc6b-f3fffb4a0d11"
      },
      "outputs": [
        {
          "output_type": "execute_result",
          "data": {
            "text/plain": [
              "1.5299923499617505e-09"
            ]
          },
          "metadata": {},
          "execution_count": 71
        }
      ],
      "source": [
        "# Estimated number of instructions by second\n",
        "\n",
        "306/200001000010"
      ]
    },
    {
      "cell_type": "markdown",
      "metadata": {
        "id": "KyuxejFkL5X_"
      },
      "source": [
        "# Estimate the maximun n that can be solved in 1 second\n",
        "\n",
        "$$5n^2 \\times 1.53*10^{-9} s = 1s$$\n",
        "\n",
        "$$ n \\approx 11000$$\n"
      ]
    },
    {
      "cell_type": "code",
      "execution_count": 72,
      "metadata": {
        "colab": {
          "base_uri": "https://localhost:8080/"
        },
        "id": "WXu5jp-DLTOI",
        "outputId": "d056bdce-ec41-474b-e423-79ed321a8112"
      },
      "outputs": [
        {
          "output_type": "stream",
          "name": "stdout",
          "text": [
            "Overwriting WriteTest.cpp\n"
          ]
        }
      ],
      "source": [
        "# Verify input13.txt\n",
        "%%writefile WriteTest.cpp\n",
        "\n",
        "#include <iostream>\n",
        "#include <fstream>\n",
        "#include <cstdlib>\n",
        "\n",
        "using namespace std;\n",
        "\n",
        "int main() {\n",
        "  // Create and open a text file\n",
        "  ofstream MyFile(\"input13.txt\");\n",
        "\n",
        " MyFile << 11000 <<\"\\n\";  // n\n",
        " for (int i=1; i <11001; i++){\n",
        "     MyFile << i <<\" \";\n",
        " }\n",
        "\n",
        "  // Close the file\n",
        "  MyFile.close();\n",
        "}"
      ]
    },
    {
      "cell_type": "code",
      "execution_count": 73,
      "metadata": {
        "id": "AQ8N52pUMCeT"
      },
      "outputs": [],
      "source": [
        "!g++ WriteTest.cpp -o WriteTest\n",
        "!./WriteTest"
      ]
    },
    {
      "cell_type": "code",
      "execution_count": 74,
      "metadata": {
        "colab": {
          "base_uri": "https://localhost:8080/"
        },
        "id": "ussuAokfM2du",
        "outputId": "883589c0-c210-4eba-f3f1-e6d4b726ccca"
      },
      "outputs": [
        {
          "output_type": "stream",
          "name": "stdout",
          "text": [
            "120989000\n",
            "\n",
            "real\t0m0.855s\n",
            "user\t0m0.844s\n",
            "sys\t0m0.002s\n"
          ]
        }
      ],
      "source": [
        "!g++ max_pairwise_product_long_full.cpp -o max_pairwise_product_long_full\n",
        "!time ./max_pairwise_product_long_full< input13.txt"
      ]
    },
    {
      "cell_type": "markdown",
      "metadata": {
        "id": "Tm_AVmt-QQH4"
      },
      "source": [
        "## Python"
      ]
    },
    {
      "cell_type": "code",
      "execution_count": 75,
      "metadata": {
        "colab": {
          "base_uri": "https://localhost:8080/"
        },
        "id": "gRCCcd7IQTKZ",
        "outputId": "d5a66202-a1d0-4400-ad0f-e56a49be924d"
      },
      "outputs": [
        {
          "output_type": "stream",
          "name": "stdout",
          "text": [
            "Writing MaxPairwiseProduct.py\n"
          ]
        }
      ],
      "source": [
        "%%writefile MaxPairwiseProduct.py\n",
        "def MaxPairwiseProduct(numbers):\n",
        "    execints = 0  # N inst exec by line executed\n",
        "\n",
        "    max_product = 0  # 1\n",
        "    execints += 1\n",
        "\n",
        "    aux_product = 0  # 1\n",
        "    execints += 1\n",
        "\n",
        "    n = len(numbers)  # 1\n",
        "    execints += 1\n",
        "\n",
        "    execints += 1\n",
        "    for first in range(n):  # 1+2n\n",
        "        execints += 2\n",
        "\n",
        "        execints += 1\n",
        "        for second in range(n):  # n + 2n**2\n",
        "            execints += 2\n",
        "\n",
        "            execints += 1\n",
        "            if first != second:  # n**2\n",
        "                aux_product = numbers[first] * numbers[second]  # n**2 - n\n",
        "                execints += 1\n",
        "\n",
        "                execints += 1\n",
        "                if aux_product > max_product:  # n**2 - n\n",
        "                    max_product = aux_product  # [1, n**2/2 - n/2] upper bound\n",
        "                    execints += 1\n",
        "\n",
        "    return max_product, execints  # 4 + n + [5*n**2+1, 11*n**2/2 - n/2] upper bound\n",
        "\n",
        "def main_function():\n",
        "    execints = 0  # N inst exec by line executed\n",
        "\n",
        "    n = int(input())  # 1\n",
        "    execints += 1\n",
        "\n",
        "    numbers = list(map(int, input().split()))  # n\n",
        "    execints += n\n",
        "\n",
        "    execints += 1\n",
        "\n",
        "    execints += 1\n",
        "    max_product, execints_returned = MaxPairwiseProduct(numbers)  # 1 + 1 + 4 + n + [5*n**2+1, 11*n**2/2 - n/2] upper bound\n",
        "    execints += execints_returned\n",
        "\n",
        "    execints += 1\n",
        "    #print(execints)   9 + 5*n + [5*n**2+1, 11*n**2/2 - n/2]\n",
        "    print(max_product)\n",
        "\n",
        "if __name__ == '__main__':\n",
        "    main_function()"
      ]
    },
    {
      "cell_type": "code",
      "execution_count": 76,
      "metadata": {
        "colab": {
          "base_uri": "https://localhost:8080/"
        },
        "id": "kAEAoNZEQTCw",
        "outputId": "6838f2e7-78b1-4694-e08b-f4ccb3a2510d"
      },
      "outputs": [
        {
          "output_type": "stream",
          "name": "stdout",
          "text": [
            "120989000\n",
            "\n",
            "real\t0m43.412s\n",
            "user\t0m43.056s\n",
            "sys\t0m0.027s\n"
          ]
        }
      ],
      "source": [
        "!time python MaxPairwiseProduct.py < input13.txt"
      ]
    },
    {
      "cell_type": "code",
      "execution_count": 77,
      "metadata": {
        "id": "hjw7TJrDL0d-"
      },
      "outputs": [],
      "source": [
        "# Verify\n",
        "# Test\n",
        "!python MaxPairwiseProduct.py < input1.txt > output1.txt\n",
        "!python MaxPairwiseProduct.py < input2.txt > output2.txt\n",
        "!python MaxPairwiseProduct.py < input4.txt > output4.txt"
      ]
    },
    {
      "cell_type": "code",
      "execution_count": 78,
      "metadata": {
        "colab": {
          "base_uri": "https://localhost:8080/"
        },
        "id": "eXzIBh0uhqRh",
        "outputId": "ed3e73c5-e475-4678-d1b2-3fc6bf2e0fbd"
      },
      "outputs": [
        {
          "output_type": "stream",
          "name": "stdout",
          "text": [
            "Writing MaxPairwiseProductWithDetails.py\n"
          ]
        }
      ],
      "source": [
        "%%writefile MaxPairwiseProductWithDetails.py\n",
        "def MaxPairwiseProduct(numbers):\n",
        "    execints = 0  # N inst exec by line executed\n",
        "\n",
        "    max_product = 0  # 1\n",
        "    execints += 1\n",
        "\n",
        "    aux_product = 0  # 1\n",
        "    execints += 1\n",
        "\n",
        "    n = len(numbers)  # 1\n",
        "    execints += 1\n",
        "\n",
        "    execints += 1\n",
        "    for first in range(n):  # 1+2n\n",
        "        execints += 2\n",
        "\n",
        "        execints += 1\n",
        "        for second in range(n):  # n + 2n**2\n",
        "            execints += 2\n",
        "\n",
        "            execints += 1\n",
        "            if first != second:  # n**2\n",
        "                aux_product = numbers[first] * numbers[second]  # n**2 - n\n",
        "                execints += 1\n",
        "\n",
        "                execints += 1\n",
        "                if aux_product > max_product:  # n**2 - n\n",
        "                    max_product = aux_product  # [1, n**2/2 - n/2] upper bound\n",
        "                    execints += 1\n",
        "\n",
        "    return max_product, execints  # 4 + n + [5*n**2+1, 11*n**2/2 - n/2] upper bound\n",
        "\n",
        "def main_function():\n",
        "    execints = 0  # N inst exec by line executed\n",
        "\n",
        "    n = int(input())  # 1\n",
        "    execints += 1\n",
        "\n",
        "    numbers = list(map(int, input().split()))  # n\n",
        "    execints += n\n",
        "\n",
        "    execints += 1\n",
        "\n",
        "    execints += 1\n",
        "    max_product, execints_returned = MaxPairwiseProduct(numbers)  # 1 + 1 + 4 + n + [5*n**2+1, 11*n**2/2 - n/2] upper bound\n",
        "    execints += execints_returned\n",
        "\n",
        "    execints += 1\n",
        "    print(\"Instructions\",execints) #  9 + 5*n + [5*n**2+1, 11*n**2/2 - n/2]\n",
        "    print(max_product)\n",
        "\n",
        "if __name__ == '__main__':\n",
        "    main_function()"
      ]
    },
    {
      "cell_type": "code",
      "execution_count": 79,
      "metadata": {
        "colab": {
          "base_uri": "https://localhost:8080/"
        },
        "id": "mo5PIb3viBV5",
        "outputId": "5d88e436-c8f2-4ac3-ab66-585e0b101fd2"
      },
      "outputs": [
        {
          "output_type": "stream",
          "name": "stdout",
          "text": [
            "Instructions 605137049\n",
            "120989000\n",
            "\n",
            "real\t0m44.940s\n",
            "user\t0m44.356s\n",
            "sys\t0m0.028s\n"
          ]
        }
      ],
      "source": [
        "!time python MaxPairwiseProductWithDetails.py < input13.txt"
      ]
    },
    {
      "cell_type": "code",
      "execution_count": 80,
      "metadata": {
        "colab": {
          "base_uri": "https://localhost:8080/"
        },
        "id": "MxtOf89niLvj",
        "outputId": "984bff1b-c2e1-4584-a321-474aee9c3c8a"
      },
      "outputs": [
        {
          "output_type": "stream",
          "name": "stdout",
          "text": [
            "python 7.428565161278037e-08\n",
            "c++ 1.5299923499617505e-09\n"
          ]
        }
      ],
      "source": [
        "instructions_per_second=44.953/605137049\n",
        "print('python',instructions_per_second)\n",
        "instructions_per_second_c=306/200001000010\n",
        "print('c++',instructions_per_second_c)\n"
      ]
    },
    {
      "cell_type": "markdown",
      "metadata": {
        "id": "MKQKSC-vKePK"
      },
      "source": [
        "## Perform the same analysis for an algorithm in C++ and Python that uses\n",
        "$$\\frac{n^2 - n}{2} = O(n^2)\\ \\ \\text{products}$$"
      ]
    },
    {
      "cell_type": "code",
      "execution_count": 81,
      "metadata": {
        "colab": {
          "base_uri": "https://localhost:8080/"
        },
        "id": "jkkHHoxSK65p",
        "outputId": "0a1adb4c-173b-42eb-d6c2-421b5e9938d1"
      },
      "outputs": [
        {
          "output_type": "stream",
          "name": "stdout",
          "text": [
            "Writing max_pairwise_product.cpp\n"
          ]
        }
      ],
      "source": [
        "%%writefile max_pairwise_product.cpp\n",
        "#include <iostream>\n",
        "#include <vector>\n",
        "#include <algorithm>\n",
        "\n",
        "int MaxPairwiseProduct(const std::vector<int>& numbers) {\n",
        "    int max_product = 0;\n",
        "    int n = numbers.size();\n",
        "\n",
        "    for (int first = 0; first < n; ++first) {\n",
        "        for (int second = first + 1; second < n; ++second) {\n",
        "            max_product = std::max(max_product,\n",
        "                numbers[first] * numbers[second]);\n",
        "        }\n",
        "    }\n",
        "\n",
        "    return max_product;\n",
        "}\n",
        "\n",
        "int main() {\n",
        "    int n;\n",
        "    std::cin >> n;\n",
        "    std::vector<int> numbers(n);\n",
        "    for (int i = 0; i < n; ++i) {\n",
        "        std::cin >> numbers[i];\n",
        "    }\n",
        "\n",
        "    std::cout << MaxPairwiseProduct(numbers) << \"\\n\";\n",
        "    return 0;\n",
        "}"
      ]
    },
    {
      "cell_type": "code",
      "execution_count": 82,
      "metadata": {
        "colab": {
          "base_uri": "https://localhost:8080/"
        },
        "id": "sU8-Ote7K8vz",
        "outputId": "f1218783-46c8-448d-b206-2178160ccad9"
      },
      "outputs": [
        {
          "output_type": "stream",
          "name": "stdout",
          "text": [
            "Writing max_pairwise_product_long.cpp\n"
          ]
        }
      ],
      "source": [
        "%%writefile max_pairwise_product_long.cpp\n",
        "#include <iostream>\n",
        "#include <vector>\n",
        "#include <algorithm>\n",
        "\n",
        "long long MaxPairwiseProduct(const std::vector<int>& numbers) {              //N inst exec by line executed\n",
        "    long long max_product = 0LL;                                             //1\n",
        "\t  long long aux_product = 0LL;                                             //1\n",
        "    int n = numbers.size();                                                  //1\n",
        "\n",
        "    for (int first = 0; first < n; ++first) {                                //1+2n\n",
        "        for (int second = first + 1; second < n; ++second) {                 //n + (n-1)n\n",
        "\t\t\t       aux_product =  (long long) numbers[first] * numbers[second];    //(n-1)n/2\n",
        "            if (max_product < aux_product)  {                                //(n-1)n/2\n",
        "\t\t\t\t        max_product = aux_product;                                   //[0, (n-1)n/2]\n",
        "             }\n",
        "        }\n",
        "    }\n",
        "                                                                             // --------------\n",
        "    return max_product;                                                      // 4 + 3n + [2(n-1)n, 2.5 (n-1)n] upper bound\n",
        "}\n",
        "\n",
        "int main() {                                              //N inst exec by line executed\n",
        "    int n;                                                //1\n",
        "    std::cin >> n;                                        //1\n",
        "    std::vector<int> numbers(n);                          //n\n",
        "    for (int i = 0; i < n; ++i) {                         //1 + 2n\n",
        "        std::cin >> numbers[i];                           //n\n",
        "    }\n",
        "\n",
        "    std::cout << MaxPairwiseProduct(numbers) << \"\\n\";     //1 + 1  + 4 + 3n + [2(n-1)n, 2.5 (n-1)n]\n",
        "    return 0;                                             // --------------\n",
        "}                                                         // 9 + 7n + [2(n-1)n, 2.5 (n-1)n] upper bound\n"
      ]
    },
    {
      "cell_type": "code",
      "execution_count": 83,
      "metadata": {
        "colab": {
          "base_uri": "https://localhost:8080/"
        },
        "id": "woE73MHjvYS7",
        "outputId": "417aa087-accb-4547-cc26-520a405ad424"
      },
      "outputs": [
        {
          "output_type": "stream",
          "name": "stdout",
          "text": [
            "Writing max_pairwise_product_long_details.cpp\n"
          ]
        }
      ],
      "source": [
        "%%writefile max_pairwise_product_long_details.cpp\n",
        "#include <iostream>\n",
        "#include <vector>\n",
        "#include <algorithm>\n",
        "#include <chrono>\n",
        "\n",
        "long long MaxPairwiseProduct(const std::vector<int>& numbers, long long &execInstruction) {\n",
        "    long long max_product = 0LL;\n",
        "    long long aux_product = 0LL;\n",
        "    int n = numbers.size();\n",
        "    execInstruction += 4;\n",
        "\n",
        "    for (int first = 0; first < n; ++first) {\n",
        "        execInstruction += 2;\n",
        "        for (int second = first + 1; second < n; ++second) {\n",
        "            execInstruction += 3;\n",
        "            aux_product = (long long) numbers[first] * numbers[second];\n",
        "            if (max_product < aux_product)  {\n",
        "                execInstruction++;\n",
        "                max_product = aux_product;\n",
        "            }\n",
        "        }\n",
        "    }\n",
        "\n",
        "    return max_product;\n",
        "}\n",
        "\n",
        "int main() {\n",
        "    long long execInstruction = 0;\n",
        "    int n;\n",
        "    std::cin >> n;\n",
        "    execInstruction++;\n",
        "    std::vector<int> numbers(n);\n",
        "    execInstruction += n;\n",
        "\n",
        "    for (int i = 0; i < n; ++i) {\n",
        "        execInstruction += 2;\n",
        "        std::cin >> numbers[i];\n",
        "        execInstruction++;\n",
        "    }\n",
        "\n",
        "    auto start = std::chrono::high_resolution_clock::now();\n",
        "    long long result = MaxPairwiseProduct(numbers, execInstruction);\n",
        "    auto stop = std::chrono::high_resolution_clock::now();\n",
        "    auto duration = std::chrono::duration_cast<std::chrono::microseconds>(stop - start).count();\n",
        "\n",
        "    std::cout << result << \"\\n\";\n",
        "    std::cout << \"Time taken by function: \" << duration << \" microseconds\" << std::endl;\n",
        "    std::cout << \"Approximate executed instructions: \" << execInstruction << std::endl;\n",
        "    std::cout << \"Time per instruction: \" << (double)duration / execInstruction << \" microseconds\" << std::endl;\n",
        "\n",
        "    return 0;\n",
        "}\n"
      ]
    },
    {
      "cell_type": "markdown",
      "metadata": {
        "id": "BaCPXVFcp01t"
      },
      "source": [
        "Python Code"
      ]
    },
    {
      "cell_type": "code",
      "execution_count": 84,
      "metadata": {
        "id": "5QWT3fneK8nw",
        "colab": {
          "base_uri": "https://localhost:8080/"
        },
        "outputId": "b0b2b5f0-d90e-4ec5-a689-5d575e3c7f66"
      },
      "outputs": [
        {
          "output_type": "stream",
          "name": "stdout",
          "text": [
            "Writing max_pairwise_product_long_details.py\n"
          ]
        }
      ],
      "source": [
        "%%writefile max_pairwise_product_long_details.py\n",
        "import time\n",
        "\n",
        "def max_pairwise_product(numbers):\n",
        "    max_product = 0\n",
        "    n = len(numbers)\n",
        "    execInstruction = 4;\n",
        "\n",
        "    for first in range(n):\n",
        "        execInstruction += 2\n",
        "        for second in range(first + 1, n):\n",
        "            execInstruction += 3\n",
        "            aux_product = numbers[first] * numbers[second]\n",
        "            if max_product < aux_product:\n",
        "                execInstruction += 1\n",
        "                max_product = aux_product\n",
        "\n",
        "    return max_product, execInstruction\n",
        "\n",
        "if __name__ == '__main__':\n",
        "    execInstruction = 0\n",
        "    n = int(input())\n",
        "    execInstruction += 1\n",
        "    numbers = list(map(int, input().split()))\n",
        "    execInstruction += n\n",
        "    execInstruction += 2 * n\n",
        "\n",
        "    start_time = time.time()\n",
        "    result, instructionCount = max_pairwise_product(numbers)\n",
        "    end_time = time.time()\n",
        "    duration = (end_time - start_time) * 1e6  # in microseconds\n",
        "\n",
        "    print(result)\n",
        "    print(\"--- %s microseconds ---\" % duration)\n",
        "    print(\"Approximate executed instructions:\", instructionCount)\n",
        "    print(\"Time per instruction: %s microseconds\" % (duration / instructionCount))\n"
      ]
    },
    {
      "cell_type": "markdown",
      "metadata": {
        "id": "ey3FDB29p4T1"
      },
      "source": [
        "Performance comparative  c++ vs python"
      ]
    },
    {
      "cell_type": "code",
      "execution_count": 89,
      "metadata": {
        "id": "mxIVvm1RK8dB",
        "colab": {
          "base_uri": "https://localhost:8080/"
        },
        "outputId": "155e9e32-ed28-4a41-bb76-2be4b9e927b4"
      },
      "outputs": [
        {
          "output_type": "stream",
          "name": "stdout",
          "text": [
            "python\n",
            "120989000\n",
            "--- 11445200.681686401 microseconds ---\n",
            "Approximate executed instructions: 181620545\n",
            "Time per instruction: 0.06301710349832064 microseconds\n",
            "c++\n",
            "120989000\n",
            "Time taken by function: 463119 microseconds\n",
            "Approximate executed instructions: 181664546\n",
            "Time per instruction: 0.00254931 microseconds\n"
          ]
        }
      ],
      "source": [
        "!echo python\n",
        "!python max_pairwise_product_long_details.py < input13.txt\n",
        "!echo c++\n",
        "!g++ max_pairwise_product_long_details.cpp -o max_pairwise_product_long_details\n",
        "!./max_pairwise_product_long_details< input13.txt"
      ]
    },
    {
      "cell_type": "markdown",
      "metadata": {
        "id": "1Hsbd-uHOb_j"
      },
      "source": [
        "### Sort solution in C++ and Python\n",
        "\n",
        "$$ O(n \\lg n)$$\n",
        "\n",
        "**Which sorting algorithm is used in GCC?**\n",
        "https://stackoverflow.com/questions/7221257/which-sorting-algorithm-is-used-in-gcc\n",
        "\n",
        "* ...  the algorithm is called introsort, a combination between Insertionsort, Quicksort & Heapsort. ...\n",
        "\n",
        "**Introsort**\n",
        "https://en.wikipedia.org/wiki/Introsort\n",
        "\n",
        "Introsort or introspective sort is a hybrid sorting algorithm that provides both fast average performance and (asymptotically) optimal worst-case performance. It begins with quicksort, it switches to heapsort when the recursion depth exceeds a level based on (the logarithm of) the number of elements being sorted and it switches to insertion sort when the number of elements is below some threshold\n",
        "\n",
        "*   Class\tSorting algorithm\n",
        "*   Data structure\tArray\n",
        "*   Worst-case performance\t$O(n \\lg n)$\n",
        "*   Average performance\t$O(n \\lg n)$\n",
        "\n",
        "**Tinsort**\n",
        "https://en.wikipedia.org/wiki/Timsort\n",
        "\n",
        "Timsort is a hybrid, stable sorting algorithm, derived from merge sort and insertion sort, designed to perform well on many kinds of real-world data. It was implemented by Tim Peters in 2002 for use in the Python programming language.\n",
        "\n",
        "*   Class\tSorting algorithm\n",
        "*   Data structure\tArray\n",
        "*   Worst-case performance\t$O(n \\lg n)$\n",
        "*   Best-case performance $O(n)$\n",
        "*   Average performance\t$O(n \\lg n)$\n",
        "*   Worst-case space complexity $O(n)$"
      ]
    },
    {
      "cell_type": "markdown",
      "metadata": {
        "id": "WMUthAXjOb_k"
      },
      "source": [
        "Add in each line a coment with the number of intstrcution that are executed in that line"
      ]
    },
    {
      "cell_type": "code",
      "execution_count": null,
      "metadata": {
        "id": "2-sXOmqFOb_k"
      },
      "outputs": [],
      "source": []
    },
    {
      "cell_type": "markdown",
      "metadata": {
        "id": "v8pdV9ABOb_k"
      },
      "source": [
        "Test with inputs 1 and 2\n",
        "\n"
      ]
    },
    {
      "cell_type": "code",
      "execution_count": null,
      "metadata": {
        "id": "kdXAyLG4Ob_k"
      },
      "outputs": [],
      "source": []
    },
    {
      "cell_type": "markdown",
      "metadata": {
        "id": "Sw-5X1q1Ob_k"
      },
      "source": [
        "Test and time it with input 3"
      ]
    },
    {
      "cell_type": "code",
      "execution_count": null,
      "metadata": {
        "id": "ryHJ30WIOb_k"
      },
      "outputs": [],
      "source": []
    },
    {
      "cell_type": "markdown",
      "metadata": {
        "id": "oJGdPl1HOb_k"
      },
      "source": [
        "20 stress tests"
      ]
    },
    {
      "cell_type": "code",
      "execution_count": null,
      "metadata": {
        "id": "pXHtO1dEOb_k"
      },
      "outputs": [],
      "source": []
    },
    {
      "cell_type": "markdown",
      "metadata": {
        "id": "2beTmWFPOb_k"
      },
      "source": [
        "Count executed instructions in code and verify with inputs 1,2 and 3\n"
      ]
    },
    {
      "cell_type": "code",
      "execution_count": null,
      "metadata": {
        "id": "iuByv4x1Ob_k"
      },
      "outputs": [],
      "source": []
    },
    {
      "cell_type": "markdown",
      "metadata": {
        "id": "x2CXhkwTOb_l"
      },
      "source": [
        "Calculate estimated time by instruction and number of instructions by second"
      ]
    },
    {
      "cell_type": "code",
      "execution_count": null,
      "metadata": {
        "id": "nTjxyTMtOb_l"
      },
      "outputs": [],
      "source": []
    },
    {
      "cell_type": "markdown",
      "metadata": {
        "id": "VMKC5duEOQfk"
      },
      "source": [
        "### Efficient solution largest and second-largest in an list, array or vector in C++ and Python\n",
        " $$2.5 n = O(n)$$\n",
        "\n",
        "\n",
        "\n"
      ]
    },
    {
      "cell_type": "markdown",
      "metadata": {
        "id": "nLcKBwbU0QsE"
      },
      "source": [
        "Add in each line a coment with the number of intstrcution that are executed in that line"
      ]
    },
    {
      "cell_type": "code",
      "execution_count": null,
      "metadata": {
        "id": "knls5Fh3NSt_"
      },
      "outputs": [],
      "source": []
    },
    {
      "cell_type": "markdown",
      "metadata": {
        "id": "-JCijbWxNSii"
      },
      "source": [
        "Test with inputs 1 and 2\n",
        "\n"
      ]
    },
    {
      "cell_type": "code",
      "execution_count": null,
      "metadata": {
        "id": "TrTGAfqlNVXT"
      },
      "outputs": [],
      "source": []
    },
    {
      "cell_type": "markdown",
      "metadata": {
        "id": "PRX51wADNR8b"
      },
      "source": [
        "Test and time it with input 3"
      ]
    },
    {
      "cell_type": "code",
      "execution_count": null,
      "metadata": {
        "id": "v4z7-Is_NRt7"
      },
      "outputs": [],
      "source": []
    },
    {
      "cell_type": "markdown",
      "metadata": {
        "id": "rpdfs0_TNZJf"
      },
      "source": [
        "20 stress tests"
      ]
    },
    {
      "cell_type": "code",
      "execution_count": null,
      "metadata": {
        "id": "Lu4tYcKzNcTT"
      },
      "outputs": [],
      "source": []
    },
    {
      "cell_type": "markdown",
      "metadata": {
        "id": "L8U4151JNbxk"
      },
      "source": [
        "Count executed instructions in code and verify with inputs 1,2 and 3\n"
      ]
    },
    {
      "cell_type": "code",
      "execution_count": null,
      "metadata": {
        "id": "dh85RM8vNhFz"
      },
      "outputs": [],
      "source": []
    },
    {
      "cell_type": "markdown",
      "metadata": {
        "id": "K6ybgCmpNygr"
      },
      "source": [
        "Calculate estimated time by instruction and number of instructions by second"
      ]
    },
    {
      "cell_type": "code",
      "execution_count": null,
      "metadata": {
        "id": "kwe3G1O3Nz1w"
      },
      "outputs": [],
      "source": []
    },
    {
      "cell_type": "markdown",
      "metadata": {
        "id": "sUpIWcykOGpT"
      },
      "source": [
        "### Super efficient solution\n",
        "\n",
        "Whitout storing the list in memory, only stpring the largest and second largest and whitout calling a function, add in each line a coment with the number of instructions that are executed in that line\n",
        "\n",
        "in C++ and Python\n",
        " $$2 n = O(n)$$"
      ]
    },
    {
      "cell_type": "code",
      "execution_count": null,
      "metadata": {
        "id": "hBLt_xBQLy8E"
      },
      "outputs": [],
      "source": []
    },
    {
      "cell_type": "markdown",
      "metadata": {
        "id": "683gc3roHqzb"
      },
      "source": [
        "Test with inputs 1 and 2\n",
        "\n",
        "\n"
      ]
    },
    {
      "cell_type": "code",
      "execution_count": null,
      "metadata": {
        "id": "b7d4LA8OIc2_"
      },
      "outputs": [],
      "source": []
    },
    {
      "cell_type": "markdown",
      "metadata": {
        "id": "36Ugn1odIeJz"
      },
      "source": [
        "Test and time it with input 3"
      ]
    },
    {
      "cell_type": "code",
      "execution_count": null,
      "metadata": {
        "id": "jDyMbCnxHqSN"
      },
      "outputs": [],
      "source": []
    },
    {
      "cell_type": "markdown",
      "metadata": {
        "id": "bhqiKQG6fjKM"
      },
      "source": [
        "20 stress tests"
      ]
    },
    {
      "cell_type": "code",
      "execution_count": null,
      "metadata": {
        "id": "2KsiXKhALzwm"
      },
      "outputs": [],
      "source": []
    },
    {
      "cell_type": "markdown",
      "metadata": {
        "id": "fEXj8GHJH5p1"
      },
      "source": [
        "Count executed instructions in code and verify with inputs 1,2 and 3"
      ]
    },
    {
      "cell_type": "code",
      "execution_count": null,
      "metadata": {
        "id": "LF1DHjKXIAsF"
      },
      "outputs": [],
      "source": []
    },
    {
      "cell_type": "markdown",
      "metadata": {
        "id": "yae7sSm2IG9U"
      },
      "source": [
        "Calculate estimated time by instruction and number of instructions by second"
      ]
    },
    {
      "cell_type": "code",
      "execution_count": null,
      "metadata": {
        "id": "suouY7BYL2dz"
      },
      "outputs": [],
      "source": []
    },
    {
      "cell_type": "markdown",
      "metadata": {
        "id": "sy33CNNfPxcE"
      },
      "source": [
        "### Super efficient solution in Python\n",
        "\n",
        "Whitout storing the list in memory and whitout calling a function, add in each line a coment with the number of intstrcution that are executed in that line"
      ]
    },
    {
      "cell_type": "code",
      "execution_count": null,
      "metadata": {
        "id": "_mOjJwKrPxcJ"
      },
      "outputs": [],
      "source": []
    },
    {
      "cell_type": "markdown",
      "metadata": {
        "id": "K08Eow0hPxcJ"
      },
      "source": [
        "Test with inputs 1 and 2\n",
        "\n",
        "\n"
      ]
    },
    {
      "cell_type": "code",
      "execution_count": null,
      "metadata": {
        "id": "1_mUee2cPxcJ"
      },
      "outputs": [],
      "source": []
    },
    {
      "cell_type": "markdown",
      "metadata": {
        "id": "CE5DB3CmPxcJ"
      },
      "source": [
        "Test and time it with input 3"
      ]
    },
    {
      "cell_type": "code",
      "execution_count": null,
      "metadata": {
        "id": "lyLhFOoePxcJ"
      },
      "outputs": [],
      "source": []
    },
    {
      "cell_type": "markdown",
      "metadata": {
        "id": "HZEI236lPxcK"
      },
      "source": [
        "20 stress tests"
      ]
    },
    {
      "cell_type": "code",
      "execution_count": null,
      "metadata": {
        "id": "_LoV-p4zPxcK"
      },
      "outputs": [],
      "source": []
    },
    {
      "cell_type": "markdown",
      "metadata": {
        "id": "IRVdP3iuPxcK"
      },
      "source": [
        "Count executed instructions in code and verify with inputs 1,2 and 3"
      ]
    },
    {
      "cell_type": "code",
      "execution_count": null,
      "metadata": {
        "id": "RghJOg78PxcK"
      },
      "outputs": [],
      "source": []
    },
    {
      "cell_type": "markdown",
      "metadata": {
        "id": "R6qeUjPaPxcK"
      },
      "source": [
        "Calculate estimated time by instruction and number of instructions by second"
      ]
    },
    {
      "cell_type": "code",
      "execution_count": null,
      "metadata": {
        "id": "iLdXYvn3PxcK"
      },
      "outputs": [],
      "source": []
    }
  ],
  "metadata": {
    "colab": {
      "provenance": []
    },
    "kernelspec": {
      "display_name": "Python 3",
      "name": "python3"
    },
    "language_info": {
      "name": "python"
    }
  },
  "nbformat": 4,
  "nbformat_minor": 0
}